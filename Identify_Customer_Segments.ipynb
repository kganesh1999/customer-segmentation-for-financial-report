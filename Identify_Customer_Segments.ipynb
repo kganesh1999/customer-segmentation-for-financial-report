{
 "cells": [
  {
   "cell_type": "markdown",
   "metadata": {},
   "source": [
    "# Project: Identify Customer Segments\n",
    "\n",
    "In this project, you will apply unsupervised learning techniques to identify segments of the population that form the core customer base for a mail-order sales company in Germany. These segments can then be used to direct marketing campaigns towards audiences that will have the highest expected rate of returns. The data that you will use has been provided by our partners at Bertelsmann Arvato Analytics, and represents a real-life data science task.\n",
    "\n",
    "This notebook will help you complete this task by providing a framework within which you will perform your analysis steps. In each step of the project, you will see some text describing the subtask that you will perform, followed by one or more code cells for you to complete your work. **Feel free to add additional code and markdown cells as you go along so that you can explore everything in precise chunks.** The code cells provided in the base template will outline only the major tasks, and will usually not be enough to cover all of the minor tasks that comprise it.\n",
    "\n",
    "It should be noted that while there will be precise guidelines on how you should handle certain tasks in the project, there will also be places where an exact specification is not provided. **There will be times in the project where you will need to make and justify your own decisions on how to treat the data.** These are places where there may not be only one way to handle the data. In real-life tasks, there may be many valid ways to approach an analysis task. One of the most important things you can do is clearly document your approach so that other scientists can understand the decisions you've made.\n",
    "\n",
    "At the end of most sections, there will be a Markdown cell labeled **Discussion**. In these cells, you will report your findings for the completed section, as well as document the decisions that you made in your approach to each subtask. **Your project will be evaluated not just on the code used to complete the tasks outlined, but also your communication about your observations and conclusions at each stage.**"
   ]
  },
  {
   "cell_type": "code",
   "execution_count": 1,
   "metadata": {},
   "outputs": [
    {
     "data": {
      "text/plain": [
       "'\\nImport note: The classroom currently uses sklearn version 0.19.\\nIf you need to use an imputer, it is available in sklearn.preprocessing.Imputer,\\ninstead of sklearn.impute as in newer versions of sklearn.\\n'"
      ]
     },
     "execution_count": 1,
     "metadata": {},
     "output_type": "execute_result"
    }
   ],
   "source": [
    "# import libraries here; add more as necessary\n",
    "import numpy as np\n",
    "import pandas as pd\n",
    "import matplotlib.pyplot as plt\n",
    "import seaborn as sns\n",
    "\n",
    "# magic word for producing visualizations in notebook\n",
    "%matplotlib inline\n",
    "\n",
    "'''\n",
    "Import note: The classroom currently uses sklearn version 0.19.\n",
    "If you need to use an imputer, it is available in sklearn.preprocessing.Imputer,\n",
    "instead of sklearn.impute as in newer versions of sklearn.\n",
    "'''"
   ]
  },
  {
   "cell_type": "markdown",
   "metadata": {},
   "source": [
    "### Step 0: Load the Data\n",
    "\n",
    "There are four files associated with this project (not including this one):\n",
    "\n",
    "- `Udacity_AZDIAS_Subset.csv`: Demographics data for the general population of Germany; 891211 persons (rows) x 85 features (columns).\n",
    "- `Udacity_CUSTOMERS_Subset.csv`: Demographics data for customers of a mail-order company; 191652 persons (rows) x 85 features (columns).\n",
    "- `Data_Dictionary.md`: Detailed information file about the features in the provided datasets.\n",
    "- `AZDIAS_Feature_Summary.csv`: Summary of feature attributes for demographics data; 85 features (rows) x 4 columns\n",
    "\n",
    "Each row of the demographics files represents a single person, but also includes information outside of individuals, including information about their household, building, and neighborhood. You will use this information to cluster the general population into groups with similar demographic properties. Then, you will see how the people in the customers dataset fit into those created clusters. The hope here is that certain clusters are over-represented in the customers data, as compared to the general population; those over-represented clusters will be assumed to be part of the core userbase. This information can then be used for further applications, such as targeting for a marketing campaign.\n",
    "\n",
    "To start off with, load in the demographics data for the general population into a pandas DataFrame, and do the same for the feature attributes summary. Note for all of the `.csv` data files in this project: they're semicolon (`;`) delimited, so you'll need an additional argument in your [`read_csv()`](https://pandas.pydata.org/pandas-docs/stable/generated/pandas.read_csv.html) call to read in the data properly. Also, considering the size of the main dataset, it may take some time for it to load completely.\n",
    "\n",
    "Once the dataset is loaded, it's recommended that you take a little bit of time just browsing the general structure of the dataset and feature summary file. You'll be getting deep into the innards of the cleaning in the first major step of the project, so gaining some general familiarity can help you get your bearings."
   ]
  },
  {
   "cell_type": "code",
   "execution_count": 2,
   "metadata": {},
   "outputs": [],
   "source": [
    "# Load in the general demographics data.\n",
    "azdias = pd.read_csv('Udacity_AZDIAS_Subset.csv',sep=';')\n",
    "\n",
    "# Load in the feature summary file.\n",
    "feat_info = pd.read_csv('AZDIAS_Feature_Summary.csv',sep=';')"
   ]
  },
  {
   "cell_type": "code",
   "execution_count": 3,
   "metadata": {},
   "outputs": [
    {
     "name": "stdout",
     "output_type": "stream",
     "text": [
      "Azidas:  (891221, 85)\n",
      "Feat info:  (85, 4)\n"
     ]
    }
   ],
   "source": [
    "# Check the structure of the data after it's loaded (e.g. print the number of\n",
    "# rows and columns, print the first few rows).\n",
    "print('Azidas: ',azdias.shape)\n",
    "print('Feat info: ',feat_info.shape)"
   ]
  },
  {
   "cell_type": "markdown",
   "metadata": {},
   "source": [
    "> **Tip**: Add additional cells to keep everything in reasonably-sized chunks! Keyboard shortcut `esc --> a` (press escape to enter command mode, then press the 'A' key) adds a new cell before the active cell, and `esc --> b` adds a new cell after the active cell. If you need to convert an active cell to a markdown cell, use `esc --> m` and to convert to a code cell, use `esc --> y`. \n",
    "\n",
    "## Step 1: Preprocessing\n",
    "\n",
    "### Step 1.1: Assess Missing Data\n",
    "\n",
    "The feature summary file contains a summary of properties for each demographics data column. You will use this file to help you make cleaning decisions during this stage of the project. First of all, you should assess the demographics data in terms of missing data. Pay attention to the following points as you perform your analysis, and take notes on what you observe. Make sure that you fill in the **Discussion** cell with your findings and decisions at the end of each step that has one!\n",
    "\n",
    "#### Step 1.1.1: Convert Missing Value Codes to NaNs\n",
    "The fourth column of the feature attributes summary (loaded in above as `feat_info`) documents the codes from the data dictionary that indicate missing or unknown data. While the file encodes this as a list (e.g. `[-1,0]`), this will get read in as a string object. You'll need to do a little bit of parsing to make use of it to identify and clean the data. Convert data that matches a 'missing' or 'unknown' value code into a numpy NaN value. You might want to see how much data takes on a 'missing' or 'unknown' code, and how much data is naturally missing, as a point of interest.\n",
    "\n",
    "**As one more reminder, you are encouraged to add additional cells to break up your analysis into manageable chunks.**"
   ]
  },
  {
   "cell_type": "code",
   "execution_count": 4,
   "metadata": {},
   "outputs": [],
   "source": [
    "for attribute in feat_info['attribute']:\n",
    "    tmp_list = feat_info[feat_info['attribute']==attribute].missing_or_unknown.iloc[0].replace('[','').replace(']','').split(',')\n",
    "    missing_or_unknown_list = [float(x) if x.lstrip('-').isnumeric() else x for x in tmp_list]\n",
    "    azdias[attribute].replace(to_replace=missing_or_unknown_list,value=np.nan, inplace=True)"
   ]
  },
  {
   "cell_type": "markdown",
   "metadata": {},
   "source": [
    "#### Step 1.1.2: Assess Missing Data in Each Column\n",
    "\n",
    "How much missing data is present in each column? There are a few columns that are outliers in terms of the proportion of values that are missing. You will want to use matplotlib's [`hist()`](https://matplotlib.org/api/_as_gen/matplotlib.pyplot.hist.html) function to visualize the distribution of missing value counts to find these columns. Identify and document these columns. While some of these columns might have justifications for keeping or re-encoding the data, for this project you should just remove them from the dataframe. (Feel free to make remarks about these outlier columns in the discussion, however!)\n",
    "\n",
    "For the remaining features, are there any patterns in which columns have, or share, missing data?"
   ]
  },
  {
   "cell_type": "code",
   "execution_count": 5,
   "metadata": {},
   "outputs": [
    {
     "data": {
      "text/plain": [
       "TITEL_KZ                 889061\n",
       "AGER_TYP                 685843\n",
       "KK_KUNDENTYP             584612\n",
       "KBA05_BAUMAX             476524\n",
       "GEBURTSJAHR              392318\n",
       "ALTER_HH                 310267\n",
       "REGIOTYP                 158064\n",
       "KKK                      158064\n",
       "W_KEIT_KIND_HH           147988\n",
       "KBA05_ANTG4              133324\n",
       "KBA05_GBZ                133324\n",
       "MOBI_REGIO               133324\n",
       "KBA05_ANTG1              133324\n",
       "KBA05_ANTG2              133324\n",
       "KBA05_ANTG3              133324\n",
       "PLZ8_GBZ                 116515\n",
       "PLZ8_HHZ                 116515\n",
       "PLZ8_BAUMAX              116515\n",
       "PLZ8_ANTG4               116515\n",
       "PLZ8_ANTG1               116515\n",
       "PLZ8_ANTG3               116515\n",
       "PLZ8_ANTG2               116515\n",
       "SHOPPER_TYP              111196\n",
       "VERS_TYP                 111196\n",
       "HEALTH_TYP               111196\n",
       "NATIONALITAET_KZ         108315\n",
       "PRAEGENDE_JUGENDJAHRE    108164\n",
       "KBA13_ANZAHL_PKW         105800\n",
       "ANZ_HAUSHALTE_AKTIV       99611\n",
       "CAMEO_INTL_2015           99352\n",
       "                          ...  \n",
       "RETOURTYP_BK_S             4854\n",
       "ONLINE_AFFINITAET          4854\n",
       "LP_STATUS_FEIN             4854\n",
       "LP_STATUS_GROB             4854\n",
       "GFK_URLAUBERTYP            4854\n",
       "ALTERSKATEGORIE_GROB       2881\n",
       "FINANZTYP                     0\n",
       "GREEN_AVANTGARDE              0\n",
       "FINANZ_HAUSBAUER              0\n",
       "FINANZ_UNAUFFAELLIGER         0\n",
       "FINANZ_ANLEGER                0\n",
       "FINANZ_SPARER                 0\n",
       "FINANZ_MINIMALIST             0\n",
       "ANREDE_KZ                     0\n",
       "FINANZ_VORSORGER              0\n",
       "SEMIO_FAM                     0\n",
       "SEMIO_SOZ                     0\n",
       "SEMIO_REL                     0\n",
       "SEMIO_MAT                     0\n",
       "SEMIO_VERT                    0\n",
       "SEMIO_LUST                    0\n",
       "SEMIO_ERL                     0\n",
       "SEMIO_KULT                    0\n",
       "SEMIO_RAT                     0\n",
       "SEMIO_KRIT                    0\n",
       "SEMIO_DOM                     0\n",
       "SEMIO_KAEM                    0\n",
       "SEMIO_PFLICHT                 0\n",
       "SEMIO_TRADV                   0\n",
       "ZABEOTYP                      0\n",
       "Length: 85, dtype: int64"
      ]
     },
     "execution_count": 5,
     "metadata": {},
     "output_type": "execute_result"
    }
   ],
   "source": [
    "# Perform an assessment of how much missing data there is in each column of the dataset.\n",
    "azdias.isna().sum().sort_values(ascending=False)"
   ]
  },
  {
   "cell_type": "code",
   "execution_count": 6,
   "metadata": {},
   "outputs": [
    {
     "data": {
      "text/plain": [
       "<matplotlib.axes._subplots.AxesSubplot at 0x7f1ff955def0>"
      ]
     },
     "execution_count": 6,
     "metadata": {},
     "output_type": "execute_result"
    },
    {
     "data": {
      "image/png": "[encoded data removed]",
      "text/plain": [
       "<matplotlib.figure.Figure at 0x7f20167bfb00>"
      ]
     },
     "metadata": {
      "needs_background": "light"
     },
     "output_type": "display_data"
    }
   ],
   "source": [
    "# Investigate patterns in the amount of missing data in each column.\n",
    "azdias.isna().sum().hist()"
   ]
  },
  {
   "cell_type": "code",
   "execution_count": 7,
   "metadata": {},
   "outputs": [],
   "source": [
    "# Remove the outlier columns from the dataset. (You'll perform other data engineering tasks such as re-encoding and imputation later.)\n",
    "drop_col = list(azdias.isna().sum()[azdias.isna().sum()>300000].index)\n",
    "azdias.drop(columns=drop_col,axis=1,inplace=True)"
   ]
  },
  {
   "cell_type": "code",
   "execution_count": 8,
   "metadata": {},
   "outputs": [
    {
     "data": {
      "text/plain": [
       "Index([], dtype='object')"
      ]
     },
     "execution_count": 8,
     "metadata": {},
     "output_type": "execute_result"
    }
   ],
   "source": [
    "azdias.isna().sum()[azdias.isna().sum()>300000].index"
   ]
  },
  {
   "cell_type": "markdown",
   "metadata": {},
   "source": [
    "#### Discussion 1.1.2: Assess Missing Data in Each Column\n",
    "\n",
    "(Double click this cell and replace this text with your own text, reporting your observations regarding the amount of missing data in each column. Are there any patterns in missing values? Which columns were removed from the dataset?)\n",
    "\n",
    "**There are 6 columns namely 'AGER_TYP', 'GEBURTSJAHR', 'TITEL_KZ', 'ALTER_HH', 'KK_KUNDENTYP','KBA05_BAUMAX' with missing values more than 300000 and these columns are removed from the dataset.**\n"
   ]
  },
  {
   "cell_type": "markdown",
   "metadata": {},
   "source": [
    "#### Step 1.1.3: Assess Missing Data in Each Row\n",
    "\n",
    "Now, you'll perform a similar assessment for the rows of the dataset. How much data is missing in each row? As with the columns, you should see some groups of points that have a very different numbers of missing values. Divide the data into two subsets: one for data points that are above some threshold for missing values, and a second subset for points below that threshold.\n",
    "\n",
    "In order to know what to do with the outlier rows, we should see if the distribution of data values on columns that are not missing data (or are missing very little data) are similar or different between the two groups. Select at least five of these columns and compare the distribution of values.\n",
    "- You can use seaborn's [`countplot()`](https://seaborn.pydata.org/generated/seaborn.countplot.html) function to create a bar chart of code frequencies and matplotlib's [`subplot()`](https://matplotlib.org/api/_as_gen/matplotlib.pyplot.subplot.html) function to put bar charts for the two subplots side by side.\n",
    "- To reduce repeated code, you might want to write a function that can perform this comparison, taking as one of its arguments a column to be compared.\n",
    "\n",
    "Depending on what you observe in your comparison, this will have implications on how you approach your conclusions later in the analysis. If the distributions of non-missing features look similar between the data with many missing values and the data with few or no missing values, then we could argue that simply dropping those points from the analysis won't present a major issue. On the other hand, if the data with many missing values looks very different from the data with few or no missing values, then we should make a note on those data as special. We'll revisit these data later on. **Either way, you should continue your analysis for now using just the subset of the data with few or no missing values.**"
   ]
  },
  {
   "cell_type": "code",
   "execution_count": 9,
   "metadata": {},
   "outputs": [
    {
     "data": {
      "text/plain": [
       "<matplotlib.axes._subplots.AxesSubplot at 0x7f1ff953ca90>"
      ]
     },
     "execution_count": 9,
     "metadata": {},
     "output_type": "execute_result"
    },
    {
     "data": {
      "image/png": "[encoded data removed]",
      "text/plain": [
       "<matplotlib.figure.Figure at 0x7f202dc20ac8>"
      ]
     },
     "metadata": {
      "needs_background": "light"
     },
     "output_type": "display_data"
    }
   ],
   "source": [
    "# How much data is missing in each row of the dataset?\n",
    "azdias.isnull().sum(axis=1).sort_values(ascending=False).hist()\n"
   ]
  },
  {
   "cell_type": "code",
   "execution_count": 10,
   "metadata": {},
   "outputs": [
    {
     "name": "stdout",
     "output_type": "stream",
     "text": [
      "Below Threshold (797961, 79)\n",
      "Above Threshold (93260, 79)\n"
     ]
    }
   ],
   "source": [
    "# Write code to divide the data into two subsets based on the number of missing\n",
    "# values in each row.\n",
    "below_threshold = azdias[azdias.isnull().sum(axis=1)<=25]\n",
    "print('Below Threshold',below_threshold.shape)\n",
    "above_threshold = azdias[azdias.isnull().sum(axis=1)>25]\n",
    "print('Above Threshold',above_threshold.shape)"
   ]
  },
  {
   "cell_type": "code",
   "execution_count": 11,
   "metadata": {},
   "outputs": [
    {
     "data": {
      "text/plain": [
       "ANREDE_KZ                0\n",
       "FINANZ_MINIMALIST        0\n",
       "FINANZ_SPARER            0\n",
       "FINANZ_VORSORGER         0\n",
       "FINANZ_ANLEGER           0\n",
       "FINANZ_UNAUFFAELLIGER    0\n",
       "FINANZ_HAUSBAUER         0\n",
       "FINANZTYP                0\n",
       "GREEN_AVANTGARDE         0\n",
       "SEMIO_SOZ                0\n",
       "SEMIO_FAM                0\n",
       "SEMIO_REL                0\n",
       "SEMIO_MAT                0\n",
       "SEMIO_VERT               0\n",
       "SEMIO_LUST               0\n",
       "SEMIO_ERL                0\n",
       "SEMIO_KULT               0\n",
       "SEMIO_RAT                0\n",
       "SEMIO_KRIT               0\n",
       "SEMIO_DOM                0\n",
       "SEMIO_KAEM               0\n",
       "SEMIO_PFLICHT            0\n",
       "SEMIO_TRADV              0\n",
       "SOHO_KZ                  0\n",
       "ZABEOTYP                 0\n",
       "ANZ_PERSONEN             0\n",
       "ANZ_TITEL                0\n",
       "HH_EINKOMMEN_SCORE       0\n",
       "WOHNDAUER_2008           0\n",
       "GEBAEUDETYP              0\n",
       "MIN_GEBAEUDEJAHR         0\n",
       "OST_WEST_KZ              0\n",
       "WOHNLAGE                 0\n",
       "dtype: int64"
      ]
     },
     "execution_count": 11,
     "metadata": {},
     "output_type": "execute_result"
    }
   ],
   "source": [
    "# Compare the distribution of values for at least five columns where there are\n",
    "# no or few missing values, between the two subsets.\n",
    "below_threshold.isnull().sum()[below_threshold.isnull().sum()==0]"
   ]
  },
  {
   "cell_type": "code",
   "execution_count": 12,
   "metadata": {},
   "outputs": [
    {
     "data": {
      "text/plain": [
       "ANREDE_KZ                0\n",
       "FINANZ_MINIMALIST        0\n",
       "FINANZ_SPARER            0\n",
       "FINANZ_VORSORGER         0\n",
       "FINANZ_ANLEGER           0\n",
       "FINANZ_UNAUFFAELLIGER    0\n",
       "FINANZ_HAUSBAUER         0\n",
       "FINANZTYP                0\n",
       "GREEN_AVANTGARDE         0\n",
       "SEMIO_SOZ                0\n",
       "SEMIO_FAM                0\n",
       "SEMIO_REL                0\n",
       "SEMIO_MAT                0\n",
       "SEMIO_VERT               0\n",
       "SEMIO_LUST               0\n",
       "SEMIO_ERL                0\n",
       "SEMIO_KULT               0\n",
       "SEMIO_RAT                0\n",
       "SEMIO_KRIT               0\n",
       "SEMIO_DOM                0\n",
       "SEMIO_KAEM               0\n",
       "SEMIO_PFLICHT            0\n",
       "SEMIO_TRADV              0\n",
       "ZABEOTYP                 0\n",
       "dtype: int64"
      ]
     },
     "execution_count": 12,
     "metadata": {},
     "output_type": "execute_result"
    }
   ],
   "source": [
    "above_threshold.isnull().sum()[above_threshold.isnull().sum()==0]"
   ]
  },
  {
   "cell_type": "code",
   "execution_count": 13,
   "metadata": {},
   "outputs": [],
   "source": [
    "def plot(column):\n",
    "    ax1 = plt.subplot(1,2,1)\n",
    "    plt.title('Below threshold')\n",
    "    sns.countplot(below_threshold[column])\n",
    "    ax2 = plt.subplot(1,2,2)\n",
    "    plt.title('Above threshold')\n",
    "    sns.countplot(above_threshold[column])\n",
    "    plt.tight_layout()"
   ]
  },
  {
   "cell_type": "code",
   "execution_count": 14,
   "metadata": {},
   "outputs": [
    {
     "data": {
      "image/png": "[encoded data removed]",
      "text/plain": [
       "<matplotlib.figure.Figure at 0x7f1ff80fcac8>"
      ]
     },
     "metadata": {
      "needs_background": "light"
     },
     "output_type": "display_data"
    }
   ],
   "source": [
    "plot('ANREDE_KZ')"
   ]
  },
  {
   "cell_type": "code",
   "execution_count": 15,
   "metadata": {},
   "outputs": [
    {
     "data": {
      "image/png": "[encoded data removed]",
      "text/plain": [
       "<matplotlib.figure.Figure at 0x7f1ff946c940>"
      ]
     },
     "metadata": {
      "needs_background": "light"
     },
     "output_type": "display_data"
    }
   ],
   "source": [
    "plot('FINANZ_MINIMALIST')"
   ]
  },
  {
   "cell_type": "code",
   "execution_count": 16,
   "metadata": {},
   "outputs": [
    {
     "data": {
      "image/png": "[encoded data removed]",
      "text/plain": [
       "<matplotlib.figure.Figure at 0x7f1ff9381a90>"
      ]
     },
     "metadata": {
      "needs_background": "light"
     },
     "output_type": "display_data"
    }
   ],
   "source": [
    "plot('FINANZ_SPARER')"
   ]
  },
  {
   "cell_type": "code",
   "execution_count": 17,
   "metadata": {},
   "outputs": [
    {
     "data": {
      "image/png": "[encoded data removed]",
      "text/plain": [
       "<matplotlib.figure.Figure at 0x7f1ff94812b0>"
      ]
     },
     "metadata": {
      "needs_background": "light"
     },
     "output_type": "display_data"
    }
   ],
   "source": [
    "plot('FINANZ_VORSORGER')"
   ]
  },
  {
   "cell_type": "code",
   "execution_count": 18,
   "metadata": {},
   "outputs": [
    {
     "data": {
      "image/png": "[encoded data removed]",
      "text/plain": [
       "<matplotlib.figure.Figure at 0x7f1ff922a208>"
      ]
     },
     "metadata": {
      "needs_background": "light"
     },
     "output_type": "display_data"
    }
   ],
   "source": [
    "plot('FINANZ_ANLEGER')"
   ]
  },
  {
   "cell_type": "markdown",
   "metadata": {},
   "source": [
    "#### Discussion 1.1.3: Assess Missing Data in Each Row\n",
    "\n",
    "(Double-click this cell and replace this text with your own text, reporting your observations regarding missing data in rows. Are the data with lots of missing values are qualitatively different from data with few or no missing values?)\n",
    "\n",
    "**Five columns are randomly chosen to vaisualize distriution of missing values in above and below threshold subsets. Large number of observations of that columns are mssing in above threshold subset.**"
   ]
  },
  {
   "cell_type": "markdown",
   "metadata": {},
   "source": [
    "### Step 1.2: Select and Re-Encode Features\n",
    "\n",
    "Checking for missing data isn't the only way in which you can prepare a dataset for analysis. Since the unsupervised learning techniques to be used will only work on data that is encoded numerically, you need to make a few encoding changes or additional assumptions to be able to make progress. In addition, while almost all of the values in the dataset are encoded using numbers, not all of them represent numeric values. Check the third column of the feature summary (`feat_info`) for a summary of types of measurement.\n",
    "- For numeric and interval data, these features can be kept without changes.\n",
    "- Most of the variables in the dataset are ordinal in nature. While ordinal values may technically be non-linear in spacing, make the simplifying assumption that the ordinal variables can be treated as being interval in nature (that is, kept without any changes).\n",
    "- Special handling may be necessary for the remaining two variable types: categorical, and 'mixed'.\n",
    "\n",
    "In the first two parts of this sub-step, you will perform an investigation of the categorical and mixed-type features and make a decision on each of them, whether you will keep, drop, or re-encode each. Then, in the last part, you will create a new data frame with only the selected and engineered columns.\n",
    "\n",
    "Data wrangling is often the trickiest part of the data analysis process, and there's a lot of it to be done here. But stick with it: once you're done with this step, you'll be ready to get to the machine learning parts of the project!"
   ]
  },
  {
   "cell_type": "code",
   "execution_count": 19,
   "metadata": {},
   "outputs": [
    {
     "data": {
      "text/html": [
       "<div>\n",
       "<style scoped>\n",
       "    .dataframe tbody tr th:only-of-type {\n",
       "        vertical-align: middle;\n",
       "    }\n",
       "\n",
       "    .dataframe tbody tr th {\n",
       "        vertical-align: top;\n",
       "    }\n",
       "\n",
       "    .dataframe thead th {\n",
       "        text-align: right;\n",
       "    }\n",
       "</style>\n",
       "<table border=\"1\" class=\"dataframe\">\n",
       "  <thead>\n",
       "    <tr style=\"text-align: right;\">\n",
       "      <th></th>\n",
       "      <th>attribute</th>\n",
       "    </tr>\n",
       "    <tr>\n",
       "      <th>type</th>\n",
       "      <th></th>\n",
       "    </tr>\n",
       "  </thead>\n",
       "  <tbody>\n",
       "    <tr>\n",
       "      <th>categorical</th>\n",
       "      <td>21</td>\n",
       "    </tr>\n",
       "    <tr>\n",
       "      <th>interval</th>\n",
       "      <td>1</td>\n",
       "    </tr>\n",
       "    <tr>\n",
       "      <th>mixed</th>\n",
       "      <td>7</td>\n",
       "    </tr>\n",
       "    <tr>\n",
       "      <th>numeric</th>\n",
       "      <td>7</td>\n",
       "    </tr>\n",
       "    <tr>\n",
       "      <th>ordinal</th>\n",
       "      <td>49</td>\n",
       "    </tr>\n",
       "  </tbody>\n",
       "</table>\n",
       "</div>"
      ],
      "text/plain": [
       "             attribute\n",
       "type                  \n",
       "categorical         21\n",
       "interval             1\n",
       "mixed                7\n",
       "numeric              7\n",
       "ordinal             49"
      ]
     },
     "execution_count": 19,
     "metadata": {},
     "output_type": "execute_result"
    }
   ],
   "source": [
    "# How many features are there of each data type?\n",
    "pd.DataFrame(feat_info.groupby(by='type').count()['attribute'])"
   ]
  },
  {
   "cell_type": "markdown",
   "metadata": {},
   "source": [
    "#### Step 1.2.1: Re-Encode Categorical Features\n",
    "\n",
    "For categorical data, you would ordinarily need to encode the levels as dummy variables. Depending on the number of categories, perform one of the following:\n",
    "- For binary (two-level) categoricals that take numeric values, you can keep them without needing to do anything.\n",
    "- There is one binary variable that takes on non-numeric values. For this one, you need to re-encode the values as numbers or create a dummy variable.\n",
    "- For multi-level categoricals (three or more values), you can choose to encode the values using multiple dummy variables (e.g. via [OneHotEncoder](http://scikit-learn.org/stable/modules/generated/sklearn.preprocessing.OneHotEncoder.html)), or (to keep things straightforward) just drop them from the analysis. As always, document your choices in the Discussion section."
   ]
  },
  {
   "cell_type": "code",
   "execution_count": 20,
   "metadata": {},
   "outputs": [],
   "source": [
    "categorical_feat = list(feat_info[feat_info['type']=='categorical']['attribute'])"
   ]
  },
  {
   "cell_type": "code",
   "execution_count": 21,
   "metadata": {},
   "outputs": [
    {
     "data": {
      "text/plain": [
       "{'ANREDE_KZ': 2,\n",
       " 'CJT_GESAMTTYP': 6,\n",
       " 'FINANZTYP': 6,\n",
       " 'GFK_URLAUBERTYP': 12,\n",
       " 'GREEN_AVANTGARDE': 2,\n",
       " 'LP_FAMILIE_FEIN': 11,\n",
       " 'LP_FAMILIE_GROB': 5,\n",
       " 'LP_STATUS_FEIN': 10,\n",
       " 'LP_STATUS_GROB': 5,\n",
       " 'NATIONALITAET_KZ': 3,\n",
       " 'SHOPPER_TYP': 4,\n",
       " 'SOHO_KZ': 2,\n",
       " 'VERS_TYP': 2,\n",
       " 'ZABEOTYP': 6,\n",
       " 'GEBAEUDETYP': 7,\n",
       " 'OST_WEST_KZ': 2,\n",
       " 'CAMEO_DEUG_2015': 9,\n",
       " 'CAMEO_DEU_2015': 44}"
      ]
     },
     "execution_count": 21,
     "metadata": {},
     "output_type": "execute_result"
    }
   ],
   "source": [
    "my_dict ={}\n",
    "for attr in categorical_feat:\n",
    "    if attr in below_threshold.columns:\n",
    "        my_dict[attr] = below_threshold[attr].nunique()\n",
    "my_dict"
   ]
  },
  {
   "cell_type": "code",
   "execution_count": 22,
   "metadata": {},
   "outputs": [
    {
     "name": "stdout",
     "output_type": "stream",
     "text": [
      "Binary variables are: \n",
      "ANREDE_KZ [2 1]\n",
      "GREEN_AVANTGARDE [0 1]\n",
      "SOHO_KZ [ 1.  0.]\n",
      "VERS_TYP [  2.   1.  nan]\n",
      "OST_WEST_KZ ['W' 'O']\n"
     ]
    }
   ],
   "source": [
    "# Assess categorical variables: which are binary, which are multi-level, and\n",
    "# which one needs to be re-encoded?\n",
    "print('Binary variables are: ')\n",
    "for attr in categorical_feat:\n",
    "    if attr in below_threshold.columns:\n",
    "        if(below_threshold[attr].nunique() == 2):\n",
    "            print(attr,below_threshold[attr].unique())"
   ]
  },
  {
   "cell_type": "code",
   "execution_count": 23,
   "metadata": {},
   "outputs": [
    {
     "name": "stdout",
     "output_type": "stream",
     "text": [
      "Multi-level variables are: \n",
      "CJT_GESAMTTYP [  5.   3.   2.   4.   1.   6.  nan]\n",
      "FINANZTYP [1 6 5 2 4 3]\n",
      "LP_FAMILIE_GROB [  3.   1.  nan   5.   2.   4.]\n",
      "LP_STATUS_GROB [  1.   2.   4.   5.   3.  nan]\n",
      "NATIONALITAET_KZ [  1.   3.   2.  nan]\n",
      "SHOPPER_TYP [  3.   2.   1.   0.  nan]\n",
      "ZABEOTYP [5 3 4 1 6 2]\n",
      "GEBAEUDETYP [ 8.  1.  3.  2.  6.  4.  5.]\n",
      "CAMEO_DEUG_2015 ['8' '4' '2' '6' '1' '9' '5' '7' nan '3']\n"
     ]
    }
   ],
   "source": [
    "print('Multi-level variables are: ')\n",
    "for attr in categorical_feat:\n",
    "    if attr in below_threshold.columns:\n",
    "        if(below_threshold[attr].nunique() > 2) and (below_threshold[attr].nunique() <10):\n",
    "            print(attr,below_threshold[attr].unique())"
   ]
  },
  {
   "cell_type": "code",
   "execution_count": 24,
   "metadata": {},
   "outputs": [
    {
     "name": "stderr",
     "output_type": "stream",
     "text": [
      "/opt/conda/lib/python3.6/site-packages/pandas/core/frame.py:3697: SettingWithCopyWarning: \n",
      "A value is trying to be set on a copy of a slice from a DataFrame\n",
      "\n",
      "See the caveats in the documentation: http://pandas.pydata.org/pandas-docs/stable/indexing.html#indexing-view-versus-copy\n",
      "  errors=errors)\n"
     ]
    }
   ],
   "source": [
    "for attr in categorical_feat:\n",
    "    if attr in below_threshold.columns:\n",
    "        if(below_threshold[attr].nunique() > 2):\n",
    "            below_threshold.drop(columns=attr,axis=1,inplace=True)\n",
    "            drop_col.append(attr)"
   ]
  },
  {
   "cell_type": "code",
   "execution_count": 25,
   "metadata": {},
   "outputs": [
    {
     "data": {
      "text/plain": [
       "['AGER_TYP',\n",
       " 'GEBURTSJAHR',\n",
       " 'TITEL_KZ',\n",
       " 'ALTER_HH',\n",
       " 'KK_KUNDENTYP',\n",
       " 'KBA05_BAUMAX',\n",
       " 'CJT_GESAMTTYP',\n",
       " 'FINANZTYP',\n",
       " 'GFK_URLAUBERTYP',\n",
       " 'LP_FAMILIE_FEIN',\n",
       " 'LP_FAMILIE_GROB',\n",
       " 'LP_STATUS_FEIN',\n",
       " 'LP_STATUS_GROB',\n",
       " 'NATIONALITAET_KZ',\n",
       " 'SHOPPER_TYP',\n",
       " 'ZABEOTYP',\n",
       " 'GEBAEUDETYP',\n",
       " 'CAMEO_DEUG_2015',\n",
       " 'CAMEO_DEU_2015']"
      ]
     },
     "execution_count": 25,
     "metadata": {},
     "output_type": "execute_result"
    }
   ],
   "source": [
    "drop_col"
   ]
  },
  {
   "cell_type": "code",
   "execution_count": 26,
   "metadata": {},
   "outputs": [],
   "source": [
    "# Re-encode categorical variable(s) to be kept in the analysis.\n",
    "below_threshold = pd.get_dummies(below_threshold,columns=['OST_WEST_KZ'])"
   ]
  },
  {
   "cell_type": "code",
   "execution_count": 27,
   "metadata": {},
   "outputs": [
    {
     "data": {
      "text/plain": [
       "(797961, 67)"
      ]
     },
     "execution_count": 27,
     "metadata": {},
     "output_type": "execute_result"
    }
   ],
   "source": [
    "below_threshold.shape"
   ]
  },
  {
   "cell_type": "markdown",
   "metadata": {},
   "source": [
    "#### Discussion 1.2.1: Re-Encode Categorical Features\n",
    "\n",
    "(Double-click this cell and replace this text with your own text, reporting your findings and decisions regarding categorical features. Which ones did you keep, which did you drop, and what engineering steps did you perform?)\n",
    "\n",
    "***To keep things straightforward, I have dropped all multi-level categorical variables. Just by retaining binary level categories, the dataset has enough features to build model. One of the binary level categorical variables is in alphabet, which is one hot encoded to numerical variables.***\n",
    "\n",
    "##### Columns dropped \n",
    "***'CJT_GESAMTTYP','FINANZTYP','LP_FAMILIE_GROB','LP_STATUS_GROB','NATIONALITAET_KZ','SHOPPER_TYP', 'ZABEOTYP','GEBAEUDETYP','CAMEO_DEU_2015'***"
   ]
  },
  {
   "cell_type": "markdown",
   "metadata": {},
   "source": [
    "#### Step 1.2.2: Engineer Mixed-Type Features\n",
    "\n",
    "There are a handful of features that are marked as \"mixed\" in the feature summary that require special treatment in order to be included in the analysis. There are two in particular that deserve attention; the handling of the rest are up to your own choices:\n",
    "- \"PRAEGENDE_JUGENDJAHRE\" combines information on three dimensions: generation by decade, movement (mainstream vs. avantgarde), and nation (east vs. west). While there aren't enough levels to disentangle east from west, you should create two new variables to capture the other two dimensions: an interval-type variable for decade, and a binary variable for movement.\n",
    "- \"CAMEO_INTL_2015\" combines information on two axes: wealth and life stage. Break up the two-digit codes by their 'tens'-place and 'ones'-place digits into two new ordinal variables (which, for the purposes of this project, is equivalent to just treating them as their raw numeric values).\n",
    "- If you decide to keep or engineer new features around the other mixed-type features, make sure you note your steps in the Discussion section.\n",
    "\n",
    "Be sure to check `Data_Dictionary.md` for the details needed to finish these tasks."
   ]
  },
  {
   "cell_type": "code",
   "execution_count": 28,
   "metadata": {},
   "outputs": [],
   "source": [
    "# Investigate \"PRAEGENDE_JUGENDJAHRE\" and engineer two new variables.\n",
    "movement = {\n",
    "    1: [40,0],\n",
    "    2: [40,1],\n",
    "    3: [50,0],\n",
    "    4: [50,1],\n",
    "    5: [60,0],\n",
    "    6: [60,1],\n",
    "    7: [60,1],\n",
    "    8: [70,0],\n",
    "    9: [70,1],\n",
    "    10: [80,0],\n",
    "    11: [80,1],\n",
    "    12: [80,0],\n",
    "    13: [80,1],\n",
    "    14: [90,0],\n",
    "    15: [90,1],\n",
    "    np.nan: [np.nan, np.nan]\n",
    "}\n",
    "below_threshold['generation'] = below_threshold['PRAEGENDE_JUGENDJAHRE'].apply(lambda x: np.nan if np.isnan(x) else movement[x][0])\n",
    "below_threshold['movement'] = below_threshold['PRAEGENDE_JUGENDJAHRE'].apply(lambda x: np.nan if np.isnan(x) else movement[x][1])"
   ]
  },
  {
   "cell_type": "code",
   "execution_count": 29,
   "metadata": {},
   "outputs": [],
   "source": [
    "# Investigate \"CAMEO_INTL_2015\" and engineer two new variables.\n",
    "below_threshold['wealth'] = below_threshold['CAMEO_INTL_2015'].str[0]\n",
    "below_threshold['life_stage'] = below_threshold['CAMEO_INTL_2015'].str[1]"
   ]
  },
  {
   "cell_type": "code",
   "execution_count": 30,
   "metadata": {},
   "outputs": [],
   "source": [
    "#Drop mixed variable columns\n",
    "mixed_feat = list(feat_info[feat_info['type']=='mixed']['attribute'])\n",
    "for attr in mixed_feat:\n",
    "    if attr in below_threshold.columns:\n",
    "        below_threshold.drop(attr,axis=1,inplace=True)\n",
    "        drop_col.append(attr)"
   ]
  },
  {
   "cell_type": "code",
   "execution_count": 31,
   "metadata": {},
   "outputs": [
    {
     "data": {
      "text/plain": [
       "['AGER_TYP',\n",
       " 'GEBURTSJAHR',\n",
       " 'TITEL_KZ',\n",
       " 'ALTER_HH',\n",
       " 'KK_KUNDENTYP',\n",
       " 'KBA05_BAUMAX',\n",
       " 'CJT_GESAMTTYP',\n",
       " 'FINANZTYP',\n",
       " 'GFK_URLAUBERTYP',\n",
       " 'LP_FAMILIE_FEIN',\n",
       " 'LP_FAMILIE_GROB',\n",
       " 'LP_STATUS_FEIN',\n",
       " 'LP_STATUS_GROB',\n",
       " 'NATIONALITAET_KZ',\n",
       " 'SHOPPER_TYP',\n",
       " 'ZABEOTYP',\n",
       " 'GEBAEUDETYP',\n",
       " 'CAMEO_DEUG_2015',\n",
       " 'CAMEO_DEU_2015',\n",
       " 'LP_LEBENSPHASE_FEIN',\n",
       " 'LP_LEBENSPHASE_GROB',\n",
       " 'PRAEGENDE_JUGENDJAHRE',\n",
       " 'WOHNLAGE',\n",
       " 'CAMEO_INTL_2015',\n",
       " 'PLZ8_BAUMAX']"
      ]
     },
     "execution_count": 31,
     "metadata": {},
     "output_type": "execute_result"
    }
   ],
   "source": [
    "drop_col"
   ]
  },
  {
   "cell_type": "markdown",
   "metadata": {},
   "source": [
    "#### Discussion 1.2.2: Engineer Mixed-Type Features\n",
    "\n",
    "(Double-click this cell and replace this text with your own text, reporting your findings and decisions regarding mixed-value features. Which ones did you keep, which did you drop, and what engineering steps did you perform?)\n",
    "\n",
    "***PRAEGENDE_JUGENDJAHRE feature is broken down to two new features Generation and Movement and the original column is dropped.***\n",
    "\n",
    "***The column wealth status of population and their life-stage is extracted from 'CAMEO_INTL_2015' and the original column is dropped.***\n",
    "\n",
    "***The other columns with mixed datatypes are dropped to avoid computational complexity and chance of overfitting.***\n"
   ]
  },
  {
   "cell_type": "markdown",
   "metadata": {},
   "source": [
    "#### Step 1.2.3: Complete Feature Selection\n",
    "\n",
    "In order to finish this step up, you need to make sure that your data frame now only has the columns that you want to keep. To summarize, the dataframe should consist of the following:\n",
    "- All numeric, interval, and ordinal type columns from the original dataset.\n",
    "- Binary categorical features (all numerically-encoded).\n",
    "- Engineered features from other multi-level categorical features and mixed features.\n",
    "\n",
    "Make sure that for any new columns that you have engineered, that you've excluded the original columns from the final dataset. Otherwise, their values will interfere with the analysis later on the project. For example, you should not keep \"PRAEGENDE_JUGENDJAHRE\", since its values won't be useful for the algorithm: only the values derived from it in the engineered features you created should be retained. As a reminder, your data should only be from **the subset with few or no missing values**."
   ]
  },
  {
   "cell_type": "code",
   "execution_count": 32,
   "metadata": {},
   "outputs": [],
   "source": [
    "# If there are other re-engineering tasks you need to perform, make sure you\n",
    "# take care of them here. (Dealing with missing data will come in step 2.1.)\n",
    "\n"
   ]
  },
  {
   "cell_type": "code",
   "execution_count": 33,
   "metadata": {},
   "outputs": [],
   "source": [
    "# Do whatever you need to in order to ensure that the dataframe only contains\n",
    "# the columns that should be passed to the algorithm functions.\n",
    "\n"
   ]
  },
  {
   "cell_type": "markdown",
   "metadata": {},
   "source": [
    "### Step 1.3: Create a Cleaning Function\n",
    "\n",
    "Even though you've finished cleaning up the general population demographics data, it's important to look ahead to the future and realize that you'll need to perform the same cleaning steps on the customer demographics data. In this substep, complete the function below to execute the main feature selection, encoding, and re-engineering steps you performed above. Then, when it comes to looking at the customer data in Step 3, you can just run this function on that DataFrame to get the trimmed dataset in a single step."
   ]
  },
  {
   "cell_type": "code",
   "execution_count": 34,
   "metadata": {},
   "outputs": [],
   "source": [
    "# Investigate \"PRAEGENDE_JUGENDJAHRE\" and engineer two new variables.\n",
    "movement = {\n",
    "    1: [40,0],\n",
    "    2: [40,1],\n",
    "    3: [50,0],\n",
    "    4: [50,1],\n",
    "    5: [60,0],\n",
    "    6: [60,1],\n",
    "    7: [60,1],\n",
    "    8: [70,0],\n",
    "    9: [70,1],\n",
    "    10: [80,0],\n",
    "    11: [80,1],\n",
    "    12: [80,0],\n",
    "    13: [80,1],\n",
    "    14: [90,0],\n",
    "    15: [90,1],\n",
    "    np.nan: [np.nan, np.nan]\n",
    "}\n"
   ]
  },
  {
   "cell_type": "code",
   "execution_count": 35,
   "metadata": {},
   "outputs": [],
   "source": [
    "def clean_data(df):\n",
    "    \"\"\"\n",
    "    Perform feature trimming, re-encoding, and engineering for demographics\n",
    "    data\n",
    "    \n",
    "    INPUT: Demographics DataFrame\n",
    "    OUTPUT: Trimmed and cleaned demographics DataFrame\n",
    "    \"\"\"\n",
    "    \n",
    "    # Put in code here to execute all main cleaning steps:\n",
    "    # convert missing value codes into NaNs, ...\n",
    "    for attribute in feat_info['attribute']:\n",
    "        tmp_list = feat_info[feat_info['attribute']==attribute].missing_or_unknown.iloc[0].replace('[','').replace(']','').split(',')\n",
    "        missing_or_unknown_list = [float(x) if x.lstrip('-').isnumeric() else x for x in tmp_list]\n",
    "        df[attribute].replace(to_replace=missing_or_unknown_list,value=np.nan, inplace=True)    \n",
    "    \n",
    "    # select, re-encode, and engineer column values.\n",
    "    df = pd.get_dummies(df, columns=['OST_WEST_KZ'])\n",
    "    \n",
    "    df['generation'] = df['PRAEGENDE_JUGENDJAHRE'].apply(lambda x: np.nan if np.isnan(x) else movement[x][0])\n",
    "    df['movement'] = df['PRAEGENDE_JUGENDJAHRE'].apply(lambda x: np.nan if np.isnan(x) else movement[x][1])\n",
    "    df['wealth'] = df['CAMEO_INTL_2015'].str[0]\n",
    "    df['life_stage'] = df['CAMEO_INTL_2015'].str[1]\n",
    "    \n",
    "    # remove selected columns and rows, ...\n",
    "    df.drop(drop_col, axis=1, inplace=True)\n",
    "    \n",
    "    below_threshold = df[df.isnull().sum(axis=1)<=25]\n",
    "    above_threshold = df[df.isnull().sum(axis=1)>25]\n",
    "    \n",
    "    # Return the cleaned dataframe.\n",
    "    return below_threshold\n",
    "    "
   ]
  },
  {
   "cell_type": "markdown",
   "metadata": {},
   "source": [
    "## Step 2: Feature Transformation\n",
    "\n",
    "### Step 2.1: Apply Feature Scaling\n",
    "\n",
    "Before we apply dimensionality reduction techniques to the data, we need to perform feature scaling so that the principal component vectors are not influenced by the natural differences in scale for features. Starting from this part of the project, you'll want to keep an eye on the [API reference page for sklearn](http://scikit-learn.org/stable/modules/classes.html) to help you navigate to all of the classes and functions that you'll need. In this substep, you'll need to check the following:\n",
    "\n",
    "- sklearn requires that data not have missing values in order for its estimators to work properly. So, before applying the scaler to your data, make sure that you've cleaned the DataFrame of the remaining missing values. This can be as simple as just removing all data points with missing data, or applying an [Imputer](http://scikit-learn.org/stable/modules/generated/sklearn.preprocessing.Imputer.html) to replace all missing values. You might also try a more complicated procedure where you temporarily remove missing values in order to compute the scaling parameters before re-introducing those missing values and applying imputation. Think about how much missing data you have and what possible effects each approach might have on your analysis, and justify your decision in the discussion section below.\n",
    "- For the actual scaling function, a [StandardScaler](http://scikit-learn.org/stable/modules/generated/sklearn.preprocessing.StandardScaler.html) instance is suggested, scaling each feature to mean 0 and standard deviation 1.\n",
    "- For these classes, you can make use of the `.fit_transform()` method to both fit a procedure to the data as well as apply the transformation to the data at the same time. Don't forget to keep the fit sklearn objects handy, since you'll be applying them to the customer demographics data towards the end of the project."
   ]
  },
  {
   "cell_type": "code",
   "execution_count": 36,
   "metadata": {},
   "outputs": [],
   "source": [
    "azdias = pd.read_csv('Udacity_AZDIAS_Subset.csv',sep=';')\n",
    "df = clean_data(azdias)"
   ]
  },
  {
   "cell_type": "code",
   "execution_count": 37,
   "metadata": {},
   "outputs": [
    {
     "data": {
      "text/plain": [
       "ALTERSKATEGORIE_GROB      2803\n",
       "ANREDE_KZ                    0\n",
       "FINANZ_MINIMALIST            0\n",
       "FINANZ_SPARER                0\n",
       "FINANZ_VORSORGER             0\n",
       "FINANZ_ANLEGER               0\n",
       "FINANZ_UNAUFFAELLIGER        0\n",
       "FINANZ_HAUSBAUER             0\n",
       "GREEN_AVANTGARDE             0\n",
       "HEALTH_TYP               36732\n",
       "RETOURTYP_BK_S            4754\n",
       "SEMIO_SOZ                    0\n",
       "SEMIO_FAM                    0\n",
       "SEMIO_REL                    0\n",
       "SEMIO_MAT                    0\n",
       "SEMIO_VERT                   0\n",
       "SEMIO_LUST                   0\n",
       "SEMIO_ERL                    0\n",
       "SEMIO_KULT                   0\n",
       "SEMIO_RAT                    0\n",
       "SEMIO_KRIT                   0\n",
       "SEMIO_DOM                    0\n",
       "SEMIO_KAEM                   0\n",
       "SEMIO_PFLICHT                0\n",
       "SEMIO_TRADV                  0\n",
       "SOHO_KZ                      0\n",
       "VERS_TYP                 36732\n",
       "ANZ_PERSONEN                 0\n",
       "ANZ_TITEL                    0\n",
       "HH_EINKOMMEN_SCORE           0\n",
       "                         ...  \n",
       "MIN_GEBAEUDEJAHR             0\n",
       "KBA05_ANTG1              40176\n",
       "KBA05_ANTG2              40176\n",
       "KBA05_ANTG3              40176\n",
       "KBA05_ANTG4              40176\n",
       "KBA05_GBZ                40176\n",
       "BALLRAUM                   592\n",
       "EWDICHTE                   592\n",
       "INNENSTADT                 592\n",
       "GEBAEUDETYP_RASTER           7\n",
       "KKK                      64916\n",
       "MOBI_REGIO               40176\n",
       "ONLINE_AFFINITAET         4754\n",
       "REGIOTYP                 64916\n",
       "KBA13_ANZAHL_PKW         12652\n",
       "PLZ8_ANTG1               23367\n",
       "PLZ8_ANTG2               23367\n",
       "PLZ8_ANTG3               23367\n",
       "PLZ8_ANTG4               23367\n",
       "PLZ8_HHZ                 23367\n",
       "PLZ8_GBZ                 23367\n",
       "ARBEIT                    4227\n",
       "ORTSGR_KLS9               4126\n",
       "RELAT_AB                  4227\n",
       "OST_WEST_KZ_O                0\n",
       "OST_WEST_KZ_W                0\n",
       "generation               28764\n",
       "movement                 28764\n",
       "wealth                    6204\n",
       "life_stage                6204\n",
       "Length: 65, dtype: int64"
      ]
     },
     "execution_count": 37,
     "metadata": {},
     "output_type": "execute_result"
    }
   ],
   "source": [
    "# If you've not yet cleaned the dataset of all NaN values, then investigate and\n",
    "# do that now.\n",
    "df.isna().sum() \n"
   ]
  },
  {
   "cell_type": "code",
   "execution_count": 38,
   "metadata": {},
   "outputs": [],
   "source": [
    "from sklearn.preprocessing import Imputer\n",
    "imp = Imputer()\n",
    "imp =imp.fit(df)\n",
    "clean_df = imp.transform(df)"
   ]
  },
  {
   "cell_type": "code",
   "execution_count": 39,
   "metadata": {},
   "outputs": [
    {
     "data": {
      "text/plain": [
       "(798073, 65)"
      ]
     },
     "execution_count": 39,
     "metadata": {},
     "output_type": "execute_result"
    }
   ],
   "source": [
    "clean_df.shape"
   ]
  },
  {
   "cell_type": "code",
   "execution_count": 40,
   "metadata": {},
   "outputs": [],
   "source": [
    "# Apply feature scaling to the general population demographics data.\n",
    "from sklearn.preprocessing import StandardScaler\n",
    "std_sc = StandardScaler()\n",
    "std_sc = std_sc.fit(clean_df)\n",
    "clean_df = std_sc.transform(clean_df)"
   ]
  },
  {
   "cell_type": "code",
   "execution_count": 41,
   "metadata": {},
   "outputs": [
    {
     "data": {
      "text/plain": [
       "array([[-1.76607366,  0.95790538, -1.49459116, ..., -0.55315266,\n",
       "         1.19133156, -1.26642959],\n",
       "       [ 0.20124254,  0.95790538, -1.49459116, ...,  1.87541246,\n",
       "        -0.86516757,  0.76198538],\n",
       "       [ 1.18490064,  0.95790538,  0.68315085, ..., -0.55315266,\n",
       "        -1.55066727, -0.59029127],\n",
       "       ..., \n",
       "       [-0.78241556,  0.95790538, -0.76867716, ..., -0.55315266,\n",
       "        -0.86516757,  0.76198538],\n",
       "       [-1.76607366, -1.04394444, -1.49459116, ..., -0.55315266,\n",
       "         1.19133156, -1.26642959],\n",
       "       [ 1.18490064, -1.04394444,  0.68315085, ..., -0.55315266,\n",
       "         0.50583185,  0.08584706]])"
      ]
     },
     "execution_count": 41,
     "metadata": {},
     "output_type": "execute_result"
    }
   ],
   "source": [
    "clean_df"
   ]
  },
  {
   "cell_type": "markdown",
   "metadata": {},
   "source": [
    "### Discussion 2.1: Apply Feature Scaling\n",
    "\n",
    "(Double-click this cell and replace this text with your own text, reporting your decisions regarding feature scaling.)\n",
    "\n",
    "***Firstly, the dataset is divided into two subsets based on number of missing values in each row. The subset of less threshold has some missing values. Those missing values are imputed with scikit-learns's preprocessing library. Furthermore after imputation, the values in dataset is scaled in such a way each features has mean of 0 and standard deviation 1.***"
   ]
  },
  {
   "cell_type": "markdown",
   "metadata": {},
   "source": [
    "### Step 2.2: Perform Dimensionality Reduction\n",
    "\n",
    "On your scaled data, you are now ready to apply dimensionality reduction techniques.\n",
    "\n",
    "- Use sklearn's [PCA](http://scikit-learn.org/stable/modules/generated/sklearn.decomposition.PCA.html) class to apply principal component analysis on the data, thus finding the vectors of maximal variance in the data. To start, you should not set any parameters (so all components are computed) or set a number of components that is at least half the number of features (so there's enough features to see the general trend in variability).\n",
    "- Check out the ratio of variance explained by each principal component as well as the cumulative variance explained. Try plotting the cumulative or sequential values using matplotlib's [`plot()`](https://matplotlib.org/api/_as_gen/matplotlib.pyplot.plot.html) function. Based on what you find, select a value for the number of transformed features you'll retain for the clustering part of the project.\n",
    "- Once you've made a choice for the number of components to keep, make sure you re-fit a PCA instance to perform the decided-on transformation."
   ]
  },
  {
   "cell_type": "code",
   "execution_count": 42,
   "metadata": {},
   "outputs": [],
   "source": [
    "# Apply PCA to the data.\n",
    "from sklearn.decomposition import PCA\n",
    "pca = PCA(random_state=42)\n",
    "pca_X = pca.fit_transform(clean_df)\n"
   ]
  },
  {
   "cell_type": "code",
   "execution_count": 43,
   "metadata": {},
   "outputs": [
    {
     "data": {
      "text/plain": [
       "[<matplotlib.lines.Line2D at 0x7f1ff9631d30>]"
      ]
     },
     "execution_count": 43,
     "metadata": {},
     "output_type": "execute_result"
    },
    {
     "data": {
      "image/png": "[encoded data removed]",
      "text/plain": [
       "<matplotlib.figure.Figure at 0x7f1ff95fe400>"
      ]
     },
     "metadata": {
      "needs_background": "light"
     },
     "output_type": "display_data"
    }
   ],
   "source": [
    "# Investigate the variance accounted for by each principal component.\n",
    "plt.figure(figsize=[16,5])\n",
    "ax1 = plt.subplot(1,2,1)\n",
    "plt.title(\"Explained Variance Ratio\")\n",
    "plt.bar(list(range(0,65)),pca.explained_variance_ratio_)\n",
    "ax2 = plt.subplot(1,2,2)\n",
    "plt.title(\"Cumuative Explained Variance\")\n",
    "plt.plot(pca.explained_variance_ratio_.cumsum())"
   ]
  },
  {
   "cell_type": "code",
   "execution_count": 45,
   "metadata": {},
   "outputs": [
    {
     "data": {
      "text/plain": [
       "(798073, 27)"
      ]
     },
     "execution_count": 45,
     "metadata": {},
     "output_type": "execute_result"
    }
   ],
   "source": [
    "# Re-apply PCA to the data while selecting for number of components to retain.\n",
    "pca = PCA(n_components=27,random_state=42)\n",
    "pca_reduced = pca.fit(clean_df)\n",
    "pca_reduced_X = pca_reduced.transform(clean_df)\n",
    "pca_reduced_X.shape"
   ]
  },
  {
   "cell_type": "markdown",
   "metadata": {},
   "source": [
    "### Discussion 2.2: Perform Dimensionality Reduction\n",
    "\n",
    "(Double-click this cell and replace this text with your own text, reporting your findings and decisions regarding dimensionality reduction. How many principal components / transformed features are you retaining for the next step of the analysis\n",
    "\n",
    "***From explained variance ratio plot, it is observed that the value is less than 2% by 25th component. Almost 30 components explain 85% of variance in the dataset.Hence, I would retain first 27 components for modelling.***\n"
   ]
  },
  {
   "cell_type": "markdown",
   "metadata": {},
   "source": [
    "### Step 2.3: Interpret Principal Components\n",
    "\n",
    "Now that we have our transformed principal components, it's a nice idea to check out the weight of each variable on the first few components to see if they can be interpreted in some fashion.\n",
    "\n",
    "As a reminder, each principal component is a unit vector that points in the direction of highest variance (after accounting for the variance captured by earlier principal components). The further a weight is from zero, the more the principal component is in the direction of the corresponding feature. If two features have large weights of the same sign (both positive or both negative), then increases in one tend expect to be associated with increases in the other. To contrast, features with different signs can be expected to show a negative correlation: increases in one variable should result in a decrease in the other.\n",
    "\n",
    "- To investigate the features, you should map each weight to their corresponding feature name, then sort the features according to weight. The most interesting features for each principal component, then, will be those at the beginning and end of the sorted list. Use the data dictionary document to help you understand these most prominent features, their relationships, and what a positive or negative value on the principal component might indicate.\n",
    "- You should investigate and interpret feature associations from the first three principal components in this substep. To help facilitate this, you should write a function that you can call at any time to print the sorted list of feature weights, for the *i*-th principal component. This might come in handy in the next step of the project, when you interpret the tendencies of the discovered clusters."
   ]
  },
  {
   "cell_type": "code",
   "execution_count": 47,
   "metadata": {},
   "outputs": [
    {
     "name": "stdout",
     "output_type": "stream",
     "text": [
      "                              0\n",
      "PLZ8_ANTG3             0.227854\n",
      "PLZ8_ANTG4             0.221348\n",
      "wealth                 0.208355\n",
      "HH_EINKOMMEN_SCORE     0.204412\n",
      "ORTSGR_KLS9            0.197998\n",
      "EWDICHTE               0.195587\n",
      "FINANZ_HAUSBAUER       0.164687\n",
      "KBA05_ANTG4            0.154187\n",
      "PLZ8_ANTG2             0.153626\n",
      "ARBEIT                 0.146645\n",
      "FINANZ_SPARER          0.140655\n",
      "ANZ_HAUSHALTE_AKTIV    0.136967\n",
      "KBA05_ANTG3            0.135993\n",
      "RELAT_AB               0.135931\n",
      "SEMIO_PFLICHT          0.109528\n",
      "SEMIO_REL              0.106855\n",
      "generation             0.095498\n",
      "SEMIO_RAT              0.089852\n",
      "SEMIO_TRADV            0.083368\n",
      "SEMIO_MAT              0.074565\n",
      "SEMIO_FAM              0.073974\n",
      "REGIOTYP               0.072864\n",
      "SEMIO_KULT             0.068317\n",
      "FINANZ_UNAUFFAELLIGER  0.066902\n",
      "FINANZ_ANLEGER         0.065714\n",
      "OST_WEST_KZ_O          0.060535\n",
      "KKK                    0.044411\n",
      "SEMIO_SOZ              0.041717\n",
      "SEMIO_KAEM             0.040825\n",
      "PLZ8_HHZ               0.040676\n",
      "...                         ...\n",
      "ANREDE_KZ              0.008490\n",
      "KBA05_ANTG2            0.007926\n",
      "SEMIO_KRIT             0.005196\n",
      "SOHO_KZ               -0.002047\n",
      "ANZ_TITEL             -0.003974\n",
      "RETOURTYP_BK_S        -0.015160\n",
      "SEMIO_VERT            -0.040804\n",
      "ONLINE_AFFINITAET     -0.047740\n",
      "MIN_GEBAEUDEJAHR      -0.050569\n",
      "WOHNDAUER_2008        -0.056622\n",
      "OST_WEST_KZ_W         -0.060535\n",
      "SEMIO_LUST            -0.068032\n",
      "SEMIO_ERL             -0.071279\n",
      "ANZ_PERSONEN          -0.078966\n",
      "KBA13_ANZAHL_PKW      -0.079931\n",
      "movement              -0.107752\n",
      "FINANZ_VORSORGER      -0.109717\n",
      "GREEN_AVANTGARDE      -0.109955\n",
      "ALTERSKATEGORIE_GROB  -0.113482\n",
      "GEBAEUDETYP_RASTER    -0.117630\n",
      "life_stage            -0.124530\n",
      "BALLRAUM              -0.127457\n",
      "INNENSTADT            -0.165523\n",
      "KONSUMNAEHE           -0.167994\n",
      "PLZ8_GBZ              -0.169986\n",
      "FINANZ_MINIMALIST     -0.217145\n",
      "KBA05_GBZ             -0.217966\n",
      "KBA05_ANTG1           -0.226834\n",
      "PLZ8_ANTG1            -0.228129\n",
      "MOBI_REGIO            -0.242925\n",
      "\n",
      "[65 rows x 1 columns]\n"
     ]
    }
   ],
   "source": [
    "# Map weights for the first principal component to corresponding feature names\n",
    "# and then print the linked values, sorted by weight.\n",
    "# HINT: Try defining a function here or in a new cell that you can reuse in the\n",
    "# other cells.\n",
    "def map_weight(df, component):\n",
    "    pca_df = pd.DataFrame(pca.components_, columns=list(df.columns))\n",
    "    pca_component = pd.DataFrame(pca_df.iloc[component])\n",
    "    print(pca_component.sort_values(component, ascending=False))\n",
    "map_weight(df,0)"
   ]
  },
  {
   "cell_type": "code",
   "execution_count": 48,
   "metadata": {},
   "outputs": [
    {
     "name": "stdout",
     "output_type": "stream",
     "text": [
      "                              1\n",
      "ALTERSKATEGORIE_GROB   0.262306\n",
      "FINANZ_VORSORGER       0.234573\n",
      "SEMIO_ERL              0.231437\n",
      "SEMIO_LUST             0.184865\n",
      "RETOURTYP_BK_S         0.163730\n",
      "W_KEIT_KIND_HH         0.118941\n",
      "FINANZ_HAUSBAUER       0.114372\n",
      "SEMIO_KRIT             0.114216\n",
      "SEMIO_KAEM             0.110356\n",
      "ANREDE_KZ              0.089080\n",
      "PLZ8_ANTG3             0.086789\n",
      "EWDICHTE               0.085732\n",
      "ORTSGR_KLS9            0.084625\n",
      "PLZ8_ANTG4             0.083034\n",
      "FINANZ_MINIMALIST      0.071345\n",
      "wealth                 0.069775\n",
      "SEMIO_DOM              0.069512\n",
      "ARBEIT                 0.065126\n",
      "KBA05_ANTG4            0.064680\n",
      "WOHNDAUER_2008         0.062304\n",
      "RELAT_AB               0.061124\n",
      "ANZ_HAUSHALTE_AKTIV    0.059822\n",
      "PLZ8_ANTG2             0.058975\n",
      "HH_EINKOMMEN_SCORE     0.052002\n",
      "KBA05_ANTG3            0.039219\n",
      "VERS_TYP               0.033300\n",
      "ANZ_HH_TITEL           0.030138\n",
      "OST_WEST_KZ_O          0.028122\n",
      "REGIOTYP               0.019894\n",
      "PLZ8_HHZ               0.010996\n",
      "...                         ...\n",
      "movement              -0.011772\n",
      "GREEN_AVANTGARDE      -0.013738\n",
      "OST_WEST_KZ_W         -0.028122\n",
      "KBA13_ANZAHL_PKW      -0.034537\n",
      "GEBAEUDETYP_RASTER    -0.040623\n",
      "MIN_GEBAEUDEJAHR      -0.048065\n",
      "BALLRAUM              -0.056449\n",
      "HEALTH_TYP            -0.058408\n",
      "ANZ_PERSONEN          -0.059108\n",
      "KONSUMNAEHE           -0.064772\n",
      "PLZ8_GBZ              -0.067834\n",
      "SEMIO_VERT            -0.067961\n",
      "INNENSTADT            -0.069648\n",
      "KBA05_ANTG1           -0.072395\n",
      "KBA05_GBZ             -0.081566\n",
      "MOBI_REGIO            -0.081650\n",
      "PLZ8_ANTG1            -0.084675\n",
      "SEMIO_SOZ             -0.102584\n",
      "ONLINE_AFFINITAET     -0.164191\n",
      "SEMIO_MAT             -0.164668\n",
      "SEMIO_RAT             -0.172954\n",
      "SEMIO_FAM             -0.184946\n",
      "FINANZ_ANLEGER        -0.205241\n",
      "SEMIO_KULT            -0.219819\n",
      "FINANZ_UNAUFFAELLIGER -0.230093\n",
      "SEMIO_PFLICHT         -0.230141\n",
      "SEMIO_TRADV           -0.232963\n",
      "FINANZ_SPARER         -0.238796\n",
      "generation            -0.253329\n",
      "SEMIO_REL             -0.256411\n",
      "\n",
      "[65 rows x 1 columns]\n"
     ]
    }
   ],
   "source": [
    "# Map weights for the second principal component to corresponding feature names\n",
    "# and then print the linked values, sorted by weight.\n",
    "map_weight(df,1)"
   ]
  },
  {
   "cell_type": "code",
   "execution_count": 49,
   "metadata": {},
   "outputs": [
    {
     "name": "stdout",
     "output_type": "stream",
     "text": [
      "                              2\n",
      "SEMIO_VERT             0.345504\n",
      "SEMIO_SOZ              0.262575\n",
      "SEMIO_FAM              0.250149\n",
      "SEMIO_KULT             0.235799\n",
      "FINANZ_MINIMALIST      0.156358\n",
      "RETOURTYP_BK_S         0.107736\n",
      "FINANZ_VORSORGER       0.100003\n",
      "W_KEIT_KIND_HH         0.090383\n",
      "ALTERSKATEGORIE_GROB   0.078565\n",
      "SEMIO_REL              0.069794\n",
      "SEMIO_LUST             0.064137\n",
      "SEMIO_MAT              0.055686\n",
      "GREEN_AVANTGARDE       0.046487\n",
      "ORTSGR_KLS9            0.044727\n",
      "movement               0.044510\n",
      "PLZ8_ANTG4             0.044326\n",
      "EWDICHTE               0.043666\n",
      "PLZ8_ANTG3             0.043665\n",
      "ARBEIT                 0.035404\n",
      "WOHNDAUER_2008         0.033187\n",
      "RELAT_AB               0.030638\n",
      "PLZ8_ANTG2             0.028159\n",
      "wealth                 0.026952\n",
      "KBA05_ANTG4            0.026322\n",
      "ANZ_HAUSHALTE_AKTIV    0.024943\n",
      "OST_WEST_KZ_O          0.019136\n",
      "ANZ_HH_TITEL           0.013048\n",
      "VERS_TYP               0.011364\n",
      "ANZ_TITEL              0.009555\n",
      "KBA05_ANTG3            0.007426\n",
      "...                         ...\n",
      "KBA05_ANTG2           -0.011352\n",
      "KKK                   -0.013165\n",
      "MIN_GEBAEUDEJAHR      -0.017487\n",
      "HH_EINKOMMEN_SCORE    -0.018878\n",
      "OST_WEST_KZ_W         -0.019136\n",
      "KBA05_ANTG1           -0.022368\n",
      "HEALTH_TYP            -0.023594\n",
      "KBA13_ANZAHL_PKW      -0.023867\n",
      "KBA05_GBZ             -0.025236\n",
      "MOBI_REGIO            -0.028014\n",
      "GEBAEUDETYP_RASTER    -0.029452\n",
      "BALLRAUM              -0.032996\n",
      "KONSUMNAEHE           -0.035885\n",
      "PLZ8_GBZ              -0.038499\n",
      "INNENSTADT            -0.041125\n",
      "FINANZ_HAUSBAUER      -0.041939\n",
      "PLZ8_ANTG1            -0.045069\n",
      "ONLINE_AFFINITAET     -0.054508\n",
      "SEMIO_PFLICHT         -0.078554\n",
      "SEMIO_TRADV           -0.078682\n",
      "FINANZ_UNAUFFAELLIGER -0.100397\n",
      "FINANZ_SPARER         -0.106102\n",
      "generation            -0.107353\n",
      "SEMIO_ERL             -0.176687\n",
      "FINANZ_ANLEGER        -0.187746\n",
      "SEMIO_RAT             -0.217500\n",
      "SEMIO_KRIT            -0.276502\n",
      "SEMIO_DOM             -0.314709\n",
      "SEMIO_KAEM            -0.337515\n",
      "ANREDE_KZ             -0.368831\n",
      "\n",
      "[65 rows x 1 columns]\n"
     ]
    }
   ],
   "source": [
    "# Map weights for the third principal component to corresponding feature names\n",
    "# and then print the linked values, sorted by weight.\n",
    "map_weight(df,2)\n"
   ]
  },
  {
   "cell_type": "markdown",
   "metadata": {},
   "source": [
    "### Discussion 2.3: Interpret Principal Components\n",
    "\n",
    "(Double-click this cell and replace this text with your own text, reporting your observations from detailed investigation of the first few principal components generated. Can we interpret positive and negative values from them in a meaningful way?)\n",
    "\n",
    "***First component is highly dependent on the household of region PLZ8 and wealth of each household. PLZ8_ANTG4, PLZ8_ANTG3 and wealth are +ve and PLZ8_ANTG1 is -ve.***\n",
    "***In second component, the features plays major role such as age group, financial topology in positive manner and their personality traits such as sensual-minded, event-oriented in both positive and negative manner.***\n",
    "***In third component, a person's personality traits are highly dominant in both positive and negative signs.***"
   ]
  },
  {
   "cell_type": "markdown",
   "metadata": {},
   "source": [
    "## Step 3: Clustering\n",
    "\n",
    "### Step 3.1: Apply Clustering to General Population\n",
    "\n",
    "You've assessed and cleaned the demographics data, then scaled and transformed them. Now, it's time to see how the data clusters in the principal components space. In this substep, you will apply k-means clustering to the dataset and use the average within-cluster distances from each point to their assigned cluster's centroid to decide on a number of clusters to keep.\n",
    "\n",
    "- Use sklearn's [KMeans](http://scikit-learn.org/stable/modules/generated/sklearn.cluster.KMeans.html#sklearn.cluster.KMeans) class to perform k-means clustering on the PCA-transformed data.\n",
    "- Then, compute the average difference from each point to its assigned cluster's center. **Hint**: The KMeans object's `.score()` method might be useful here, but note that in sklearn, scores tend to be defined so that larger is better. Try applying it to a small, toy dataset, or use an internet search to help your understanding.\n",
    "- Perform the above two steps for a number of different cluster counts. You can then see how the average distance decreases with an increasing number of clusters. However, each additional cluster provides a smaller net benefit. Use this fact to select a final number of clusters in which to group the data. **Warning**: because of the large size of the dataset, it can take a long time for the algorithm to resolve. The more clusters to fit, the longer the algorithm will take. You should test for cluster counts through at least 10 clusters to get the full picture, but you shouldn't need to test for a number of clusters above about 30.\n",
    "- Once you've selected a final number of clusters to use, re-fit a KMeans instance to perform the clustering operation. Make sure that you also obtain the cluster assignments for the general demographics data, since you'll be using them in the final Step 3.3."
   ]
  },
  {
   "cell_type": "code",
   "execution_count": 50,
   "metadata": {},
   "outputs": [],
   "source": [
    "from sklearn.cluster import KMeans"
   ]
  },
  {
   "cell_type": "code",
   "execution_count": 51,
   "metadata": {},
   "outputs": [],
   "source": [
    "# Over a number of different cluster counts...\n",
    "\n",
    "def do_kmeans(n,df):\n",
    "    kmeans = KMeans(n_clusters=n,random_state=42)\n",
    "    # run k-means clustering on the data and...\n",
    "    preds = kmeans.fit_predict(df)\n",
    "    # compute the average within-cluster distances.\n",
    "    pred_centroids = kmeans.cluster_centers_\n",
    "    centres = pred_centroids[preds]\n",
    "    distance = np.sqrt(((df - centres) ** 2).sum(axis = 1)).mean()\n",
    "    return distance\n",
    "    "
   ]
  },
  {
   "cell_type": "code",
   "execution_count": 52,
   "metadata": {},
   "outputs": [],
   "source": [
    "# Investigate the change in within-cluster distance across number of clusters.\n",
    "# HINT: Use matplotlib's plot function to visualize this relationship.\n",
    "n_clusters = list(range(2,20))\n",
    "n_cluster_scores = [do_kmeans(n,pca_reduced_X) for n in range(2,20)]\n"
   ]
  },
  {
   "cell_type": "code",
   "execution_count": 53,
   "metadata": {},
   "outputs": [
    {
     "data": {
      "image/png": "[encoded data removed]",
      "text/plain": [
       "<matplotlib.figure.Figure at 0x7f1ff7e17470>"
      ]
     },
     "metadata": {
      "needs_background": "light"
     },
     "output_type": "display_data"
    }
   ],
   "source": [
    "plt.plot(n_clusters,n_cluster_scores,'-o')\n",
    "plt.ylabel('Avg. distance to centroid');\n",
    "plt.xlabel('n_clusters');"
   ]
  },
  {
   "cell_type": "code",
   "execution_count": 54,
   "metadata": {},
   "outputs": [
    {
     "data": {
      "text/plain": [
       "array([2, 0, 4, ..., 7, 3, 8], dtype=int32)"
      ]
     },
     "execution_count": 54,
     "metadata": {},
     "output_type": "execute_result"
    }
   ],
   "source": [
    "# Re-fit the k-means model with the selected number of clusters and obtain\n",
    "# cluster predictions for the general population demographics data.\n",
    "model = KMeans(n_clusters=11,random_state=42)\n",
    "model = model.fit(pca_reduced_X)\n",
    "predictions_azdias = model.predict(pca_reduced_X)\n",
    "predictions_azdias"
   ]
  },
  {
   "cell_type": "markdown",
   "metadata": {},
   "source": [
    "### Discussion 3.1: Apply Clustering to General Population\n",
    "\n",
    "(Double-click this cell and replace this text with your own text, reporting your findings and decisions regarding clustering. Into how many clusters have you decided to segment the population?)\n",
    "\n",
    "***From the above plot, it is observed that there is an elbow break after 10th cluster. Hence, I have decided to segment the population into 11 clusters.***"
   ]
  },
  {
   "cell_type": "markdown",
   "metadata": {},
   "source": [
    "### Step 3.2: Apply All Steps to the Customer Data\n",
    "\n",
    "Now that you have clusters and cluster centers for the general population, it's time to see how the customer data maps on to those clusters. Take care to not confuse this for re-fitting all of the models to the customer data. Instead, you're going to use the fits from the general population to clean, transform, and cluster the customer data. In the last step of the project, you will interpret how the general population fits apply to the customer data.\n",
    "\n",
    "- Don't forget when loading in the customers data, that it is semicolon (`;`) delimited.\n",
    "- Apply the same feature wrangling, selection, and engineering steps to the customer demographics using the `clean_data()` function you created earlier. (You can assume that the customer demographics data has similar meaning behind missing data patterns as the general demographics data.)\n",
    "- Use the sklearn objects from the general demographics data, and apply their transformations to the customers data. That is, you should not be using a `.fit()` or `.fit_transform()` method to re-fit the old objects, nor should you be creating new sklearn objects! Carry the data through the feature scaling, PCA, and clustering steps, obtaining cluster assignments for all of the data in the customer demographics data."
   ]
  },
  {
   "cell_type": "code",
   "execution_count": 55,
   "metadata": {},
   "outputs": [],
   "source": [
    "# Load in the customer demographics data.\n",
    "customers = pd.read_csv('Udacity_CUSTOMERS_Subset.csv',sep=\";\")\n"
   ]
  },
  {
   "cell_type": "code",
   "execution_count": 56,
   "metadata": {},
   "outputs": [
    {
     "data": {
      "text/plain": [
       "(191652, 85)"
      ]
     },
     "execution_count": 56,
     "metadata": {},
     "output_type": "execute_result"
    }
   ],
   "source": [
    "customers.shape"
   ]
  },
  {
   "cell_type": "code",
   "execution_count": 57,
   "metadata": {},
   "outputs": [],
   "source": [
    "# Apply preprocessing, feature transformation, and clustering from the general\n",
    "# demographics onto the customer data, obtaining cluster predictions for the\n",
    "# customer demographics data.\n",
    "clean_df_customer = clean_data(customers)\n"
   ]
  },
  {
   "cell_type": "code",
   "execution_count": 58,
   "metadata": {},
   "outputs": [],
   "source": [
    "#Impute missing values\n",
    "clean_df_customer = imp.transform(clean_df_customer)\n",
    "\n",
    "#Standardized scaling\n",
    "clean_df_customer = std_sc.transform(clean_df_customer)"
   ]
  },
  {
   "cell_type": "code",
   "execution_count": 59,
   "metadata": {},
   "outputs": [
    {
     "data": {
      "text/plain": [
       "(141725, 27)"
      ]
     },
     "execution_count": 59,
     "metadata": {},
     "output_type": "execute_result"
    }
   ],
   "source": [
    "customer_pca = pca_reduced.transform(clean_df_customer)\n",
    "customer_pca.shape"
   ]
  },
  {
   "cell_type": "code",
   "execution_count": 60,
   "metadata": {},
   "outputs": [
    {
     "data": {
      "text/plain": [
       "array([1, 0, 5, ..., 1, 4, 5], dtype=int32)"
      ]
     },
     "execution_count": 60,
     "metadata": {},
     "output_type": "execute_result"
    }
   ],
   "source": [
    "predictions_customers = model.predict(customer_pca)\n",
    "predictions_customers"
   ]
  },
  {
   "cell_type": "markdown",
   "metadata": {},
   "source": [
    "### Step 3.3: Compare Customer Data to Demographics Data\n",
    "\n",
    "At this point, you have clustered data based on demographics of the general population of Germany, and seen how the customer data for a mail-order sales company maps onto those demographic clusters. In this final substep, you will compare the two cluster distributions to see where the strongest customer base for the company is.\n",
    "\n",
    "Consider the proportion of persons in each cluster for the general population, and the proportions for the customers. If we think the company's customer base to be universal, then the cluster assignment proportions should be fairly similar between the two. If there are only particular segments of the population that are interested in the company's products, then we should see a mismatch from one to the other. If there is a higher proportion of persons in a cluster for the customer data compared to the general population (e.g. 5% of persons are assigned to a cluster for the general population, but 15% of the customer data is closest to that cluster's centroid) then that suggests the people in that cluster to be a target audience for the company. On the other hand, the proportion of the data in a cluster being larger in the general population than the customer data (e.g. only 2% of customers closest to a population centroid that captures 6% of the data) suggests that group of persons to be outside of the target demographics.\n",
    "\n",
    "Take a look at the following points in this step:\n",
    "\n",
    "- Compute the proportion of data points in each cluster for the general population and the customer data. Visualizations will be useful here: both for the individual dataset proportions, but also to visualize the ratios in cluster representation between groups. Seaborn's [`countplot()`](https://seaborn.pydata.org/generated/seaborn.countplot.html) or [`barplot()`](https://seaborn.pydata.org/generated/seaborn.barplot.html) function could be handy.\n",
    "  - Recall the analysis you performed in step 1.1.3 of the project, where you separated out certain data points from the dataset if they had more than a specified threshold of missing values. If you found that this group was qualitatively different from the main bulk of the data, you should treat this as an additional data cluster in this analysis. Make sure that you account for the number of data points in this subset, for both the general population and customer datasets, when making your computations!\n",
    "- Which cluster or clusters are overrepresented in the customer dataset compared to the general population? Select at least one such cluster and infer what kind of people might be represented by that cluster. Use the principal component interpretations from step 2.3 or look at additional components to help you make this inference. Alternatively, you can use the `.inverse_transform()` method of the PCA and StandardScaler objects to transform centroids back to the original data space and interpret the retrieved values directly.\n",
    "- Perform a similar investigation for the underrepresented clusters. Which cluster or clusters are underrepresented in the customer dataset compared to the general population, and what kinds of people are typified by these clusters?"
   ]
  },
  {
   "cell_type": "code",
   "execution_count": 61,
   "metadata": {},
   "outputs": [
    {
     "data": {
      "image/png": "[encoded data removed]",
      "text/plain": [
       "<matplotlib.figure.Figure at 0x7f1ff3b66160>"
      ]
     },
     "metadata": {
      "needs_background": "light"
     },
     "output_type": "display_data"
    }
   ],
   "source": [
    "# Compare the proportion of data in each cluster for the customer data to the\n",
    "# proportion of data in each cluster for the general population.\n",
    "plt.figure(figsize=[16,5])\n",
    "ax1 = plt.subplot(1,2,1)\n",
    "plt.title('Customer clusters')\n",
    "sns.countplot(predictions_customers)\n",
    "ax2 = plt.subplot(1,2,2)\n",
    "plt.title('Demography clusters')\n",
    "sns.countplot(predictions_azdias)\n",
    "plt.tight_layout()"
   ]
  },
  {
   "cell_type": "code",
   "execution_count": 62,
   "metadata": {},
   "outputs": [
    {
     "data": {
      "image/png": "[encoded data removed]",
      "text/plain": [
       "<matplotlib.figure.Figure at 0x7f1ff1380cc0>"
      ]
     },
     "metadata": {
      "needs_background": "light"
     },
     "output_type": "display_data"
    }
   ],
   "source": [
    "\n",
    "plt.figure(figsize=[16,5])\n",
    "ax1 = plt.subplot(1,2,1)\n",
    "plt.title('Customer clusters')\n",
    "sns.barplot(x=predictions_customers, y=predictions_customers, estimator=lambda x: len(x)/len(predictions_customers)*100)\n",
    "ax2 = plt.subplot(1,2,2)\n",
    "plt.title('Demography clusters')\n",
    "sns.barplot(x=predictions_azdias, y=predictions_azdias, estimator=lambda x: len(x)/len(predictions_azdias)*100)\n",
    "plt.tight_layout()"
   ]
  },
  {
   "cell_type": "code",
   "execution_count": 63,
   "metadata": {},
   "outputs": [
    {
     "data": {
      "text/html": [
       "<div>\n",
       "<style scoped>\n",
       "    .dataframe tbody tr th:only-of-type {\n",
       "        vertical-align: middle;\n",
       "    }\n",
       "\n",
       "    .dataframe tbody tr th {\n",
       "        vertical-align: top;\n",
       "    }\n",
       "\n",
       "    .dataframe thead th {\n",
       "        text-align: right;\n",
       "    }\n",
       "</style>\n",
       "<table border=\"1\" class=\"dataframe\">\n",
       "  <thead>\n",
       "    <tr style=\"text-align: right;\">\n",
       "      <th></th>\n",
       "      <th>ALTERSKATEGORIE_GROB</th>\n",
       "      <th>ANREDE_KZ</th>\n",
       "      <th>FINANZ_MINIMALIST</th>\n",
       "      <th>FINANZ_SPARER</th>\n",
       "      <th>FINANZ_VORSORGER</th>\n",
       "      <th>FINANZ_ANLEGER</th>\n",
       "      <th>FINANZ_UNAUFFAELLIGER</th>\n",
       "      <th>FINANZ_HAUSBAUER</th>\n",
       "      <th>GREEN_AVANTGARDE</th>\n",
       "      <th>HEALTH_TYP</th>\n",
       "      <th>...</th>\n",
       "      <th>PLZ8_GBZ</th>\n",
       "      <th>ARBEIT</th>\n",
       "      <th>ORTSGR_KLS9</th>\n",
       "      <th>RELAT_AB</th>\n",
       "      <th>OST_WEST_KZ_O</th>\n",
       "      <th>OST_WEST_KZ_W</th>\n",
       "      <th>generation</th>\n",
       "      <th>movement</th>\n",
       "      <th>wealth</th>\n",
       "      <th>life_stage</th>\n",
       "    </tr>\n",
       "  </thead>\n",
       "  <tbody>\n",
       "    <tr>\n",
       "      <th>0</th>\n",
       "      <td>1.184901</td>\n",
       "      <td>-1.043944</td>\n",
       "      <td>1.409065</td>\n",
       "      <td>-1.155526</td>\n",
       "      <td>1.138179</td>\n",
       "      <td>-1.249992</td>\n",
       "      <td>-0.470424</td>\n",
       "      <td>-0.791195</td>\n",
       "      <td>1.885354</td>\n",
       "      <td>-1.625594</td>\n",
       "      <td>...</td>\n",
       "      <td>1.478186</td>\n",
       "      <td>-2.174466</td>\n",
       "      <td>-1.433519</td>\n",
       "      <td>-1.526271</td>\n",
       "      <td>-0.517429</td>\n",
       "      <td>0.517429</td>\n",
       "      <td>-1.629742</td>\n",
       "      <td>1.875412</td>\n",
       "      <td>-1.550667</td>\n",
       "      <td>0.085847</td>\n",
       "    </tr>\n",
       "    <tr>\n",
       "      <th>1</th>\n",
       "      <td>1.184901</td>\n",
       "      <td>0.957905</td>\n",
       "      <td>1.409065</td>\n",
       "      <td>-1.155526</td>\n",
       "      <td>1.138179</td>\n",
       "      <td>-1.249992</td>\n",
       "      <td>0.958614</td>\n",
       "      <td>0.629152</td>\n",
       "      <td>1.885354</td>\n",
       "      <td>-0.269821</td>\n",
       "      <td>...</td>\n",
       "      <td>-1.261033</td>\n",
       "      <td>-0.167284</td>\n",
       "      <td>-0.127704</td>\n",
       "      <td>-0.052348</td>\n",
       "      <td>-0.517429</td>\n",
       "      <td>0.517429</td>\n",
       "      <td>-1.629742</td>\n",
       "      <td>1.875412</td>\n",
       "      <td>-0.179668</td>\n",
       "      <td>0.761985</td>\n",
       "    </tr>\n",
       "    <tr>\n",
       "      <th>2</th>\n",
       "      <td>1.184901</td>\n",
       "      <td>-1.043944</td>\n",
       "      <td>1.409065</td>\n",
       "      <td>-1.155526</td>\n",
       "      <td>1.138179</td>\n",
       "      <td>-0.571007</td>\n",
       "      <td>-1.184943</td>\n",
       "      <td>-0.791195</td>\n",
       "      <td>-0.530404</td>\n",
       "      <td>-0.269821</td>\n",
       "      <td>...</td>\n",
       "      <td>0.565113</td>\n",
       "      <td>-2.174466</td>\n",
       "      <td>-0.998247</td>\n",
       "      <td>-1.526271</td>\n",
       "      <td>-0.517429</td>\n",
       "      <td>0.517429</td>\n",
       "      <td>-2.328600</td>\n",
       "      <td>-0.553153</td>\n",
       "      <td>-0.865168</td>\n",
       "      <td>0.761985</td>\n",
       "    </tr>\n",
       "    <tr>\n",
       "      <th>3</th>\n",
       "      <td>0.201243</td>\n",
       "      <td>-1.043944</td>\n",
       "      <td>-0.042763</td>\n",
       "      <td>-1.155526</td>\n",
       "      <td>0.411893</td>\n",
       "      <td>0.786963</td>\n",
       "      <td>1.673133</td>\n",
       "      <td>-0.791195</td>\n",
       "      <td>-0.530404</td>\n",
       "      <td>1.085953</td>\n",
       "      <td>...</td>\n",
       "      <td>-0.347960</td>\n",
       "      <td>-0.167284</td>\n",
       "      <td>-0.127704</td>\n",
       "      <td>-1.526271</td>\n",
       "      <td>-0.517429</td>\n",
       "      <td>0.517429</td>\n",
       "      <td>-0.232027</td>\n",
       "      <td>-0.553153</td>\n",
       "      <td>0.505832</td>\n",
       "      <td>-1.266430</td>\n",
       "    </tr>\n",
       "    <tr>\n",
       "      <th>4</th>\n",
       "      <td>0.201243</td>\n",
       "      <td>-1.043944</td>\n",
       "      <td>1.409065</td>\n",
       "      <td>-1.155526</td>\n",
       "      <td>1.138179</td>\n",
       "      <td>-1.249992</td>\n",
       "      <td>-0.470424</td>\n",
       "      <td>-0.081022</td>\n",
       "      <td>1.885354</td>\n",
       "      <td>1.085953</td>\n",
       "      <td>...</td>\n",
       "      <td>1.478186</td>\n",
       "      <td>-0.167284</td>\n",
       "      <td>0.742840</td>\n",
       "      <td>1.421574</td>\n",
       "      <td>-0.517429</td>\n",
       "      <td>0.517429</td>\n",
       "      <td>-1.629742</td>\n",
       "      <td>1.875412</td>\n",
       "      <td>-0.179668</td>\n",
       "      <td>0.761985</td>\n",
       "    </tr>\n",
       "  </tbody>\n",
       "</table>\n",
       "<p>5 rows × 65 columns</p>\n",
       "</div>"
      ],
      "text/plain": [
       "   ALTERSKATEGORIE_GROB  ANREDE_KZ  FINANZ_MINIMALIST  FINANZ_SPARER  \\\n",
       "0              1.184901  -1.043944           1.409065      -1.155526   \n",
       "1              1.184901   0.957905           1.409065      -1.155526   \n",
       "2              1.184901  -1.043944           1.409065      -1.155526   \n",
       "3              0.201243  -1.043944          -0.042763      -1.155526   \n",
       "4              0.201243  -1.043944           1.409065      -1.155526   \n",
       "\n",
       "   FINANZ_VORSORGER  FINANZ_ANLEGER  FINANZ_UNAUFFAELLIGER  FINANZ_HAUSBAUER  \\\n",
       "0          1.138179       -1.249992              -0.470424         -0.791195   \n",
       "1          1.138179       -1.249992               0.958614          0.629152   \n",
       "2          1.138179       -0.571007              -1.184943         -0.791195   \n",
       "3          0.411893        0.786963               1.673133         -0.791195   \n",
       "4          1.138179       -1.249992              -0.470424         -0.081022   \n",
       "\n",
       "   GREEN_AVANTGARDE  HEALTH_TYP     ...      PLZ8_GBZ    ARBEIT  ORTSGR_KLS9  \\\n",
       "0          1.885354   -1.625594     ...      1.478186 -2.174466    -1.433519   \n",
       "1          1.885354   -0.269821     ...     -1.261033 -0.167284    -0.127704   \n",
       "2         -0.530404   -0.269821     ...      0.565113 -2.174466    -0.998247   \n",
       "3         -0.530404    1.085953     ...     -0.347960 -0.167284    -0.127704   \n",
       "4          1.885354    1.085953     ...      1.478186 -0.167284     0.742840   \n",
       "\n",
       "   RELAT_AB  OST_WEST_KZ_O  OST_WEST_KZ_W  generation  movement    wealth  \\\n",
       "0 -1.526271      -0.517429       0.517429   -1.629742  1.875412 -1.550667   \n",
       "1 -0.052348      -0.517429       0.517429   -1.629742  1.875412 -0.179668   \n",
       "2 -1.526271      -0.517429       0.517429   -2.328600 -0.553153 -0.865168   \n",
       "3 -1.526271      -0.517429       0.517429   -0.232027 -0.553153  0.505832   \n",
       "4  1.421574      -0.517429       0.517429   -1.629742  1.875412 -0.179668   \n",
       "\n",
       "   life_stage  \n",
       "0    0.085847  \n",
       "1    0.761985  \n",
       "2    0.761985  \n",
       "3   -1.266430  \n",
       "4    0.761985  \n",
       "\n",
       "[5 rows x 65 columns]"
      ]
     },
     "execution_count": 63,
     "metadata": {},
     "output_type": "execute_result"
    }
   ],
   "source": [
    "customer_df = pd.DataFrame(clean_df_customer,columns=df.columns)\n",
    "customer_df.head()"
   ]
  },
  {
   "cell_type": "code",
   "execution_count": 64,
   "metadata": {},
   "outputs": [],
   "source": [
    "def plot_scaled_comparison(df_sample, kmeans, cluster):\n",
    "    X = pd.DataFrame.from_dict(dict(zip(df_sample.columns,pca_reduced.inverse_transform(kmeans.cluster_centers_[cluster]))), orient='index').rename(columns={0: 'feature_values'}).sort_values('feature_values', ascending=False)\n",
    "    X['feature_values_abs'] = abs(X['feature_values'])\n",
    "    pd.concat((X['feature_values'][:10], X['feature_values'][-10:]), axis=0).plot(kind='barh');"
   ]
  },
  {
   "cell_type": "code",
   "execution_count": 65,
   "metadata": {},
   "outputs": [
    {
     "data": {
      "image/png": "[encoded data removed]",
      "text/plain": [
       "<matplotlib.figure.Figure at 0x7f1ff3a7fe10>"
      ]
     },
     "metadata": {
      "needs_background": "light"
     },
     "output_type": "display_data"
    }
   ],
   "source": [
    "plot_scaled_comparison(customer_df, model, 3)"
   ]
  },
  {
   "cell_type": "code",
   "execution_count": 66,
   "metadata": {},
   "outputs": [
    {
     "data": {
      "image/png": "[encoded data removed]",
      "text/plain": [
       "<matplotlib.figure.Figure at 0x7f1feefc0908>"
      ]
     },
     "metadata": {
      "needs_background": "light"
     },
     "output_type": "display_data"
    }
   ],
   "source": [
    "# What kinds of people are part of a cluster that is underrepresented in the\n",
    "# customer data compared to the general population?\n",
    "plot_scaled_comparison(customer_df, model, 10)\n"
   ]
  },
  {
   "cell_type": "code",
   "execution_count": 67,
   "metadata": {},
   "outputs": [
    {
     "data": {
      "image/png": "[encoded data removed]",
      "text/plain": [
       "<matplotlib.figure.Figure at 0x7f1ff7d836d8>"
      ]
     },
     "metadata": {
      "needs_background": "light"
     },
     "output_type": "display_data"
    }
   ],
   "source": [
    "plot_scaled_comparison(customer_df, model, 4)"
   ]
  },
  {
   "cell_type": "markdown",
   "metadata": {},
   "source": [
    "### Discussion 3.3: Compare Customer Data to Demographics Data\n",
    "\n",
    "(Double-click this cell and replace this text with your own text, reporting findings and conclusions from the clustering analysis. Can we describe segments of the population that are relatively popular with the mail-order company, or relatively unpopular with the company?)\n",
    "\n",
    "***The company is popular among cluster group 3 and much more affine to the company than public. The cluster group has dominant quality of money saving.***\n",
    "\n",
    "***Cluster group 4 and 10 are under-represented. The dominant qualities of these clusters are personality traits of the person.***"
   ]
  },
  {
   "cell_type": "markdown",
   "metadata": {},
   "source": [
    "> Congratulations on making it this far in the project! Before you finish, make sure to check through the entire notebook from top to bottom to make sure that your analysis follows a logical flow and all of your findings are documented in **Discussion** cells. Once you've checked over all of your work, you should export the notebook as an HTML document to submit for evaluation. You can do this from the menu, navigating to **File -> Download as -> HTML (.html)**. You will submit both that document and this notebook for your project submission."
   ]
  }
 ],
 "metadata": {
  "kernelspec": {
   "display_name": "Python 3",
   "language": "python",
   "name": "python3"
  },
  "language_info": {
   "codemirror_mode": {
    "name": "ipython",
    "version": 3
   },
   "file_extension": ".py",
   "mimetype": "text/x-python",
   "name": "python",
   "nbconvert_exporter": "python",
   "pygments_lexer": "ipython3",
   "version": "3.6.3"
  }
 },
 "nbformat": 4,
 "nbformat_minor": 2
}
